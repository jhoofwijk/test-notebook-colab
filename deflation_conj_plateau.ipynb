{
 "cells": [
  {
   "cell_type": "code",
   "execution_count": null,
   "id": "dress-feelings",
   "metadata": {},
   "outputs": [],
   "source": [
    "import numpy as np\n",
    "import matplotlib.pyplot as plt\n",
    "import ilupp\n",
    "import scipy\n",
    "import scipy.sparse\n",
    "import scipy.sparse.linalg\n",
    "import scipy.ndimage\n",
    "\n",
    "import matplotlib\n",
    "matplotlib.rcParams.update({'font.size': 20})\n",
    "\n",
    "from matrices import *"
   ]
  },
  {
   "cell_type": "code",
   "execution_count": null,
   "id": "filled-appreciation",
   "metadata": {},
   "outputs": [],
   "source": [
    "residuals = []\n",
    "\n",
    "def get_deflation_operators(A, U):\n",
    "    E = U.T @ A @ U\n",
    "    Einv = np.linalg.inv(E)\n",
    "    def projA(b):\n",
    "        return U @ (Einv @ (U.T @ b))\n",
    "    def projTA(b):\n",
    "        return U @ (Einv.T @ (U.T @ b))\n",
    "    Q = scipy.sparse.linalg.LinearOperator(A.shape, matvec=projA, rmatvec=projTA)\n",
    "\n",
    "    def projAt(b):\n",
    "        return b - A @ (Q @ b)\n",
    "    def projTAt(b):\n",
    "        return b - Q.T @ (A.T @ b)\n",
    "\n",
    "    P = scipy.sparse.linalg.LinearOperator(A.shape, matvec=projAt, rmatvec=projTAt)\n",
    "    return P, Q, E\n",
    "\n",
    "def conjgrad(A,M,x,b,tol=1e-8,maxiter=1000):\n",
    "    # conjgrad is equal \n",
    "    U = np.zeros((len(b), 0)) # No deflation vector\n",
    "    return deflatedCG(A, M, U, x, b, tol, maxiter)\n",
    "\n",
    "\n",
    "def deflatedCG(A,M,U,x,b,tol=1e-8,maxiter=1000):\n",
    "    global solutions, direction, residuals\n",
    "    P,Q,E = get_deflation_operators(A, U)\n",
    "   \n",
    "    uc = x\n",
    "    r = b - A @ x\n",
    "    rc = P @ r\n",
    "    y = M @ rc\n",
    "    p = y\n",
    "    \n",
    "    residuals = [np.linalg.norm(rc)]\n",
    "    \n",
    "    for j in range(maxiter):\n",
    "        rcprev = rc\n",
    "        yprev = y\n",
    "        \n",
    "        wc = P @ (A @ p)\n",
    "        alpha = np.dot(rc, y) / np.dot(wc, p)\n",
    "        uc = uc + alpha * p\n",
    "        rc = rc - alpha * wc\n",
    "        y = M @ rc\n",
    "        beta = np.dot(rc, y) / np.dot(rcprev, yprev)\n",
    "        p = y + beta * p\n",
    "        \n",
    "        nrc = np.linalg.norm(rc)\n",
    "        residuals.append(nrc)\n",
    "        if nrc < tol:\n",
    "            print('Itr:', j)\n",
    "            break\n",
    "    \n",
    "    return Q @ b + P.T @ uc"
   ]
  },
  {
   "cell_type": "code",
   "execution_count": null,
   "id": "muslim-exemption",
   "metadata": {},
   "outputs": [],
   "source": [
    "N = 50\n",
    "A,b = poisson2d_plateaus(N,100) # meaning that the thermal conductivity in the selected regions will be 100 instead of 1\n",
    "# A,b = poisson2d(N)\n",
    "tol = 1e-8\n",
    "# A.shape"
   ]
  },
  {
   "cell_type": "code",
   "execution_count": null,
   "id": "95d81ad6",
   "metadata": {},
   "outputs": [],
   "source": [
    "B = A.diagonal().reshape(N,N)\n",
    "G = np.zeros_like(B)\n",
    "G[B > 6] = 1\n",
    "D = G.reshape((N**2,1))\n",
    "\n",
    "G2, q = scipy.ndimage.measurements.label(G)\n",
    "GG = np.zeros((N**2, q+1))\n",
    "G3 = G2.flatten()\n",
    "for i in range(q+1):\n",
    "    GG[G3 == i, i] = 1\n",
    "\n",
    "for i in range(q+1):\n",
    "    plt.figure()\n",
    "    plt.imshow(GG[:,i].reshape(N,N))\n",
    "    \n",
    "print(\"4 physics based deflation vectors to be used, corresponding to the regions with different material properties\")\n",
    "GG.shape"
   ]
  },
  {
   "cell_type": "code",
   "execution_count": null,
   "id": "9fd49480",
   "metadata": {},
   "outputs": [],
   "source": [
    "# M = scipy.sparse.identity(b.shape[0]) # No preconditioner\n",
    "M = scipy.sparse.diags(1/A.diagonal()) # Jacobi preconditioner\n",
    "# M = ilupp.ICholTPreconditioner(A, add_fill_in=0) # ICT(0) (Thresholded IC)\n",
    "# M = ilupp.ICholTPreconditioner(A, add_fill_in=3) # ICT(3)\n",
    "# M = ilupp.ICholTPreconditioner(A, add_fill_in=10) # ICT(10)"
   ]
  },
  {
   "cell_type": "code",
   "execution_count": null,
   "id": "legal-mainland",
   "metadata": {},
   "outputs": [],
   "source": [
    "maxiter = 10000\n",
    "tol = 1e-8\n",
    "\n",
    "x = np.zeros_like(b)\n",
    "%time y1 = conjgrad(A, M, x, b, tol=tol, maxiter=maxiter)\n",
    "# r = [np.linalg.norm(r) for r in residuals]\n",
    "CON = residuals\n",
    "\n",
    "x = np.zeros_like(b)\n",
    "%time y2 = deflatedCG(A, M, GG, x, b, tol=tol, maxiter=maxiter)\n",
    "\n",
    "# r = [np.linalg.norm(r) for r in residuals]\n",
    "DEF = residuals"
   ]
  },
  {
   "cell_type": "code",
   "execution_count": null,
   "id": "wicked-ivory",
   "metadata": {},
   "outputs": [],
   "source": [
    "plt.figure(figsize=(8,6))\n",
    "\n",
    "plt.semilogy(CON, label=\"CG\")\n",
    "plt.semilogy(DEF, label=\"Deflated CG\")\n",
    "\n",
    "plt.legend()\n",
    "plt.xlabel(\"Iteration\")\n",
    "plt.ylabel(\"Residual\")"
   ]
  },
  {
   "cell_type": "code",
   "execution_count": null,
   "id": "f3b46c5d",
   "metadata": {},
   "outputs": [],
   "source": [
    "# normal CG solution\n",
    "plt.imshow(y1.reshape(N,N)) "
   ]
  },
  {
   "cell_type": "code",
   "execution_count": null,
   "id": "5a6c993e",
   "metadata": {},
   "outputs": [],
   "source": [
    "# deflated CG solution\n",
    "plt.imshow(y2.reshape(N,N))"
   ]
  },
  {
   "cell_type": "code",
   "execution_count": null,
   "id": "5ee70361",
   "metadata": {},
   "outputs": [],
   "source": []
  },
  {
   "cell_type": "code",
   "execution_count": null,
   "id": "4face910",
   "metadata": {},
   "outputs": [],
   "source": []
  },
  {
   "cell_type": "code",
   "execution_count": null,
   "id": "c3327fca",
   "metadata": {},
   "outputs": [],
   "source": []
  }
 ],
 "metadata": {
  "kernelspec": {
   "display_name": "Python 3",
   "language": "python",
   "name": "python3"
  },
  "language_info": {
   "codemirror_mode": {
    "name": "ipython",
    "version": 3
   },
   "file_extension": ".py",
   "mimetype": "text/x-python",
   "name": "python",
   "nbconvert_exporter": "python",
   "pygments_lexer": "ipython3",
   "version": "3.7.8"
  }
 },
 "nbformat": 4,
 "nbformat_minor": 5
}
